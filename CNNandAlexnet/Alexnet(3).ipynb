{
 "cells": [
  {
   "cell_type": "code",
   "execution_count": 1,
   "metadata": {},
   "outputs": [
    {
     "name": "stderr",
     "output_type": "stream",
     "text": [
      "/root/miniconda3/envs/lora/lib/python3.10/site-packages/tqdm/auto.py:22: TqdmWarning: IProgress not found. Please update jupyter and ipywidgets. See https://ipywidgets.readthedocs.io/en/stable/user_install.html\n",
      "  from .autonotebook import tqdm as notebook_tqdm\n"
     ]
    }
   ],
   "source": [
    "import os\n",
    "import sys\n",
    "from tqdm import trange\n",
    "from tqdm import tqdm\n",
    "from skimage.util import montage\n",
    "import matplotlib.pyplot as plt\n",
    "import numpy as np\n",
    "import torch\n",
    "import torch.nn as nn\n",
    "import torch.optim as optim\n",
    "import torch.utils.data as data\n",
    "import torchvision.transforms as transforms\n",
    "\n",
    "import medmnist\n",
    "from medmnist.dataset import PathMNIST, ChestMNIST, DermaMNIST, OCTMNIST, PneumoniaMNIST, RetinaMNIST, BreastMNIST, OrganMNISTAxial, OrganMNISTCoronal, OrganMNISTSagittal\n",
    "from medmnist.evaluator import getAUC, getACC\n",
    "from medmnist.info import INFO"
   ]
  },
  {
   "cell_type": "code",
   "execution_count": 2,
   "metadata": {},
   "outputs": [
    {
     "name": "stdout",
     "output_type": "stream",
     "text": [
      "Version: 2.2.3\n"
     ]
    }
   ],
   "source": [
    "print(\"Version:\", medmnist.__version__)"
   ]
  },
  {
   "cell_type": "code",
   "execution_count": 3,
   "metadata": {},
   "outputs": [],
   "source": [
    "data_flag = 'dermamnist'\n",
    "#data_flag = 'breastmnist'\n",
    "download = True\n",
    "input_root = \"./\"\n",
    "NUM_EPOCHS = 10\n",
    "BATCH_SIZE = 128\n",
    "lr = 0.001\n",
    "\n",
    "flag_to_class = {\n",
    "    \"pathmnist\": PathMNIST,\n",
    "    \"chestmnist\": ChestMNIST,\n",
    "    \"dermamnist\": DermaMNIST,\n",
    "    \"octmnist\": OCTMNIST,\n",
    "    \"pneumoniamnist\": PneumoniaMNIST,\n",
    "    \"retinamnist\": RetinaMNIST,\n",
    "    \"breastmnist\": BreastMNIST,\n",
    "    \"organmnist_axial\": OrganMNISTAxial,\n",
    "    \"organmnist_coronal\": OrganMNISTCoronal,\n",
    "    \"organmnist_sagittal\": OrganMNISTSagittal,\n",
    "}\n",
    "\n",
    "DataClass = flag_to_class[data_flag]\n",
    "\n",
    "info = INFO[data_flag]\n",
    "task = info['task']\n",
    "n_channels = info['n_channels']\n",
    "n_classes = len(info['label'])"
   ]
  },
  {
   "cell_type": "code",
   "execution_count": 4,
   "metadata": {},
   "outputs": [
    {
     "name": "stdout",
     "output_type": "stream",
     "text": [
      "Using downloaded and verified file: ./dermamnist.npz\n",
      "Using downloaded and verified file: ./dermamnist.npz\n",
      "Using downloaded and verified file: ./dermamnist.npz\n"
     ]
    }
   ],
   "source": [
    "# preprocessing\n",
    "data_transform = transforms.Compose([\n",
    "    transforms.ToTensor(),\n",
    "    transforms.Normalize(mean=[.5], std=[.5])\n",
    "])\n",
    "\n",
    "# load the data\n",
    "train_dataset = DataClass(root=input_root, split='train', transform=data_transform, download=download)\n",
    "test_dataset = DataClass(root=input_root, split='test', transform=data_transform, download=download)\n",
    "nonorm_dataset = DataClass(root=input_root, split='train', transform=transforms.ToTensor(), download=download)\n",
    "\n",
    "# encapsulate data into dataloader form\n",
    "train_loader = data.DataLoader(dataset=train_dataset, batch_size=BATCH_SIZE, shuffle=True)\n",
    "test_loader = data.DataLoader(dataset=test_dataset, batch_size=BATCH_SIZE, shuffle=True)"
   ]
  },
  {
   "cell_type": "code",
   "execution_count": 5,
   "metadata": {},
   "outputs": [
    {
     "name": "stdout",
     "output_type": "stream",
     "text": [
      "Using downloaded and verified file: ./dermamnist.npz\n",
      "Using downloaded and verified file: ./dermamnist.npz\n",
      "Using downloaded and verified file: ./dermamnist.npz\n"
     ]
    }
   ],
   "source": [
    "# Data transforms\n",
    "transform = transforms.Compose([\n",
    "    transforms.Resize((224, 224)),  # 调整图像大小为 (224, 224)\n",
    "    transforms.ToTensor(),\n",
    "])\n",
    "\n",
    "# Load DermaMNIST dataset\n",
    "train_dataset = DataClass(root=input_root, split='train', transform=transform, download=download)\n",
    "test_dataset = DataClass(root=input_root, split='test', transform=transform, download=download)\n",
    "nonorm_dataset = DataClass(root=input_root, split='train', transform=transforms.ToTensor(), download=download)\n",
    "# encapsulate data into dataloader form\n",
    "train_loader = data.DataLoader(dataset=train_dataset, batch_size=BATCH_SIZE, shuffle=True)\n",
    "test_loader = data.DataLoader(dataset=test_dataset, batch_size=BATCH_SIZE, shuffle=True)"
   ]
  },
  {
   "cell_type": "code",
   "execution_count": null,
   "metadata": {},
   "outputs": [],
   "source": []
  },
  {
   "cell_type": "code",
   "execution_count": 16,
   "metadata": {},
   "outputs": [],
   "source": [
    "# AlexNet Model\n",
    "class AlexNet(nn.Module):\n",
    "    def __init__(self, num_classes=7):\n",
    "        super(AlexNet, self).__init__()\n",
    "        self.features = nn.Sequential(\n",
    "            nn.Conv2d(3, 64, kernel_size=11, stride=4, padding=2),\n",
    "            nn.ReLU(inplace=True),\n",
    "            nn.MaxPool2d(kernel_size=3, stride=2),\n",
    "            nn.Conv2d(64, 192, kernel_size=5, padding=2),\n",
    "            nn.ReLU(inplace=True),\n",
    "            nn.MaxPool2d(kernel_size=3, stride=2),\n",
    "            nn.Conv2d(192, 384, kernel_size=3, padding=1),\n",
    "            nn.ReLU(inplace=True),\n",
    "            nn.Conv2d(384, 256, kernel_size=3, padding=1),\n",
    "            nn.ReLU(inplace=True),\n",
    "            nn.Conv2d(256, 256, kernel_size=3, padding=1),\n",
    "            nn.ReLU(inplace=True),\n",
    "            nn.MaxPool2d(kernel_size=3, stride=2),\n",
    "        )\n",
    "        self.avgpool = nn.AdaptiveAvgPool2d((6, 6))\n",
    "        self.classifier = nn.Sequential(\n",
    "            nn.Dropout(),\n",
    "            nn.Linear(256 * 6 * 6, 4096),\n",
    "            nn.ReLU(inplace=True),\n",
    "            nn.Dropout(),\n",
    "            nn.Linear(4096, 4096),\n",
    "            nn.ReLU(inplace=True),\n",
    "            nn.Linear(4096, num_classes),\n",
    "        )\n",
    "\n",
    "    def forward(self, x):\n",
    "        x = self.features(x)\n",
    "        x = self.avgpool(x)\n",
    "        x = x.view(x.size(0), 256 * 6 * 6)\n",
    "        x = self.classifier(x)\n",
    "        return x\n"
   ]
  },
  {
   "cell_type": "code",
   "execution_count": 28,
   "metadata": {},
   "outputs": [
    {
     "name": "stderr",
     "output_type": "stream",
     "text": [
      "100%|██████████| 55/55 [00:11<00:00,  4.62it/s]\n",
      "100%|██████████| 16/16 [00:02<00:00,  5.44it/s]\n"
     ]
    },
    {
     "name": "stdout",
     "output_type": "stream",
     "text": [
      "Epoch 1/100:\n",
      "Training Accuracy: 0.6003\n",
      "Validation Accuracy: 0.6688\n",
      "Validation AUC: 0.4483\n"
     ]
    },
    {
     "name": "stderr",
     "output_type": "stream",
     "text": [
      "100%|██████████| 55/55 [00:12<00:00,  4.58it/s]\n",
      "100%|██████████| 16/16 [00:02<00:00,  5.57it/s]\n"
     ]
    },
    {
     "name": "stdout",
     "output_type": "stream",
     "text": [
      "Epoch 2/100:\n",
      "Training Accuracy: 0.6698\n",
      "Validation Accuracy: 0.6688\n",
      "Validation AUC: 0.4258\n"
     ]
    },
    {
     "name": "stderr",
     "output_type": "stream",
     "text": [
      "100%|██████████| 55/55 [00:12<00:00,  4.58it/s]\n",
      "100%|██████████| 16/16 [00:02<00:00,  5.45it/s]\n"
     ]
    },
    {
     "name": "stdout",
     "output_type": "stream",
     "text": [
      "Epoch 3/100:\n",
      "Training Accuracy: 0.6698\n",
      "Validation Accuracy: 0.6688\n",
      "Validation AUC: 0.4518\n"
     ]
    },
    {
     "name": "stderr",
     "output_type": "stream",
     "text": [
      "100%|██████████| 55/55 [00:11<00:00,  4.69it/s]\n",
      "100%|██████████| 16/16 [00:03<00:00,  5.31it/s]\n"
     ]
    },
    {
     "name": "stdout",
     "output_type": "stream",
     "text": [
      "Epoch 4/100:\n",
      "Training Accuracy: 0.6698\n",
      "Validation Accuracy: 0.6688\n",
      "Validation AUC: 0.4866\n"
     ]
    },
    {
     "name": "stderr",
     "output_type": "stream",
     "text": [
      "100%|██████████| 55/55 [00:11<00:00,  4.78it/s]\n",
      "100%|██████████| 16/16 [00:02<00:00,  5.46it/s]\n"
     ]
    },
    {
     "name": "stdout",
     "output_type": "stream",
     "text": [
      "Epoch 5/100:\n",
      "Training Accuracy: 0.6698\n",
      "Validation Accuracy: 0.6688\n",
      "Validation AUC: 0.5353\n"
     ]
    },
    {
     "name": "stderr",
     "output_type": "stream",
     "text": [
      "100%|██████████| 55/55 [00:11<00:00,  4.81it/s]\n",
      "100%|██████████| 16/16 [00:02<00:00,  5.45it/s]\n"
     ]
    },
    {
     "name": "stdout",
     "output_type": "stream",
     "text": [
      "Epoch 6/100:\n",
      "Training Accuracy: 0.6698\n",
      "Validation Accuracy: 0.6688\n",
      "Validation AUC: 0.5944\n"
     ]
    },
    {
     "name": "stderr",
     "output_type": "stream",
     "text": [
      "100%|██████████| 55/55 [00:11<00:00,  4.66it/s]\n",
      "100%|██████████| 16/16 [00:02<00:00,  5.86it/s]\n"
     ]
    },
    {
     "name": "stdout",
     "output_type": "stream",
     "text": [
      "Epoch 7/100:\n",
      "Training Accuracy: 0.6698\n",
      "Validation Accuracy: 0.6688\n",
      "Validation AUC: 0.6262\n"
     ]
    },
    {
     "name": "stderr",
     "output_type": "stream",
     "text": [
      "100%|██████████| 55/55 [00:12<00:00,  4.50it/s]\n",
      "100%|██████████| 16/16 [00:03<00:00,  5.27it/s]\n"
     ]
    },
    {
     "name": "stdout",
     "output_type": "stream",
     "text": [
      "Epoch 8/100:\n",
      "Training Accuracy: 0.6698\n",
      "Validation Accuracy: 0.6688\n",
      "Validation AUC: 0.6622\n"
     ]
    },
    {
     "name": "stderr",
     "output_type": "stream",
     "text": [
      "100%|██████████| 55/55 [00:12<00:00,  4.55it/s]\n",
      "100%|██████████| 16/16 [00:03<00:00,  5.20it/s]\n"
     ]
    },
    {
     "name": "stdout",
     "output_type": "stream",
     "text": [
      "Epoch 9/100:\n",
      "Training Accuracy: 0.6698\n",
      "Validation Accuracy: 0.6688\n",
      "Validation AUC: 0.6927\n"
     ]
    },
    {
     "name": "stderr",
     "output_type": "stream",
     "text": [
      "100%|██████████| 55/55 [00:11<00:00,  4.77it/s]\n",
      "100%|██████████| 16/16 [00:03<00:00,  5.26it/s]\n"
     ]
    },
    {
     "name": "stdout",
     "output_type": "stream",
     "text": [
      "Epoch 10/100:\n",
      "Training Accuracy: 0.6698\n",
      "Validation Accuracy: 0.6688\n",
      "Validation AUC: 0.7135\n"
     ]
    },
    {
     "name": "stderr",
     "output_type": "stream",
     "text": [
      "100%|██████████| 55/55 [00:11<00:00,  4.77it/s]\n",
      "100%|██████████| 16/16 [00:03<00:00,  5.16it/s]\n"
     ]
    },
    {
     "name": "stdout",
     "output_type": "stream",
     "text": [
      "Epoch 11/100:\n",
      "Training Accuracy: 0.6698\n",
      "Validation Accuracy: 0.6688\n",
      "Validation AUC: 0.7284\n"
     ]
    },
    {
     "name": "stderr",
     "output_type": "stream",
     "text": [
      "100%|██████████| 55/55 [00:12<00:00,  4.55it/s]\n",
      "100%|██████████| 16/16 [00:02<00:00,  5.49it/s]\n"
     ]
    },
    {
     "name": "stdout",
     "output_type": "stream",
     "text": [
      "Epoch 12/100:\n",
      "Training Accuracy: 0.6698\n",
      "Validation Accuracy: 0.6688\n",
      "Validation AUC: 0.7378\n"
     ]
    },
    {
     "name": "stderr",
     "output_type": "stream",
     "text": [
      "100%|██████████| 55/55 [00:11<00:00,  4.76it/s]\n",
      "100%|██████████| 16/16 [00:02<00:00,  5.36it/s]\n"
     ]
    },
    {
     "name": "stdout",
     "output_type": "stream",
     "text": [
      "Epoch 13/100:\n",
      "Training Accuracy: 0.6698\n",
      "Validation Accuracy: 0.6688\n",
      "Validation AUC: 0.7459\n"
     ]
    },
    {
     "name": "stderr",
     "output_type": "stream",
     "text": [
      "100%|██████████| 55/55 [00:12<00:00,  4.58it/s]\n",
      "100%|██████████| 16/16 [00:02<00:00,  5.41it/s]\n"
     ]
    },
    {
     "name": "stdout",
     "output_type": "stream",
     "text": [
      "Epoch 14/100:\n",
      "Training Accuracy: 0.6698\n",
      "Validation Accuracy: 0.6688\n",
      "Validation AUC: 0.7464\n"
     ]
    },
    {
     "name": "stderr",
     "output_type": "stream",
     "text": [
      "100%|██████████| 55/55 [00:11<00:00,  4.71it/s]\n",
      "100%|██████████| 16/16 [00:02<00:00,  5.45it/s]\n"
     ]
    },
    {
     "name": "stdout",
     "output_type": "stream",
     "text": [
      "Epoch 15/100:\n",
      "Training Accuracy: 0.6698\n",
      "Validation Accuracy: 0.6688\n",
      "Validation AUC: 0.7574\n"
     ]
    },
    {
     "name": "stderr",
     "output_type": "stream",
     "text": [
      "100%|██████████| 55/55 [00:11<00:00,  4.65it/s]\n",
      "100%|██████████| 16/16 [00:02<00:00,  5.42it/s]\n"
     ]
    },
    {
     "name": "stdout",
     "output_type": "stream",
     "text": [
      "Epoch 16/100:\n",
      "Training Accuracy: 0.6698\n",
      "Validation Accuracy: 0.6688\n",
      "Validation AUC: 0.7626\n"
     ]
    },
    {
     "name": "stderr",
     "output_type": "stream",
     "text": [
      "100%|██████████| 55/55 [00:11<00:00,  4.61it/s]\n",
      "100%|██████████| 16/16 [00:03<00:00,  5.32it/s]\n"
     ]
    },
    {
     "name": "stdout",
     "output_type": "stream",
     "text": [
      "Epoch 17/100:\n",
      "Training Accuracy: 0.6698\n",
      "Validation Accuracy: 0.6688\n",
      "Validation AUC: 0.7655\n"
     ]
    },
    {
     "name": "stderr",
     "output_type": "stream",
     "text": [
      "100%|██████████| 55/55 [00:12<00:00,  4.51it/s]\n",
      "100%|██████████| 16/16 [00:02<00:00,  5.47it/s]\n"
     ]
    },
    {
     "name": "stdout",
     "output_type": "stream",
     "text": [
      "Epoch 18/100:\n",
      "Training Accuracy: 0.6698\n",
      "Validation Accuracy: 0.6688\n",
      "Validation AUC: 0.7630\n"
     ]
    },
    {
     "name": "stderr",
     "output_type": "stream",
     "text": [
      "100%|██████████| 55/55 [00:11<00:00,  4.71it/s]\n",
      "100%|██████████| 16/16 [00:03<00:00,  5.11it/s]\n"
     ]
    },
    {
     "name": "stdout",
     "output_type": "stream",
     "text": [
      "Epoch 19/100:\n",
      "Training Accuracy: 0.6698\n",
      "Validation Accuracy: 0.6688\n",
      "Validation AUC: 0.7680\n"
     ]
    },
    {
     "name": "stderr",
     "output_type": "stream",
     "text": [
      "100%|██████████| 55/55 [00:11<00:00,  4.64it/s]\n",
      "100%|██████████| 16/16 [00:02<00:00,  5.55it/s]\n"
     ]
    },
    {
     "name": "stdout",
     "output_type": "stream",
     "text": [
      "Epoch 20/100:\n",
      "Training Accuracy: 0.6698\n",
      "Validation Accuracy: 0.6688\n",
      "Validation AUC: 0.7669\n"
     ]
    },
    {
     "name": "stderr",
     "output_type": "stream",
     "text": [
      "100%|██████████| 55/55 [00:11<00:00,  4.76it/s]\n",
      "100%|██████████| 16/16 [00:03<00:00,  5.29it/s]\n"
     ]
    },
    {
     "name": "stdout",
     "output_type": "stream",
     "text": [
      "Epoch 21/100:\n",
      "Training Accuracy: 0.6698\n",
      "Validation Accuracy: 0.6688\n",
      "Validation AUC: 0.7690\n"
     ]
    },
    {
     "name": "stderr",
     "output_type": "stream",
     "text": [
      "100%|██████████| 55/55 [00:11<00:00,  4.60it/s]\n",
      "100%|██████████| 16/16 [00:02<00:00,  5.43it/s]\n"
     ]
    },
    {
     "name": "stdout",
     "output_type": "stream",
     "text": [
      "Epoch 22/100:\n",
      "Training Accuracy: 0.6698\n",
      "Validation Accuracy: 0.6688\n",
      "Validation AUC: 0.7711\n"
     ]
    },
    {
     "name": "stderr",
     "output_type": "stream",
     "text": [
      "100%|██████████| 55/55 [00:11<00:00,  4.71it/s]\n",
      "100%|██████████| 16/16 [00:02<00:00,  5.37it/s]\n"
     ]
    },
    {
     "name": "stdout",
     "output_type": "stream",
     "text": [
      "Epoch 23/100:\n",
      "Training Accuracy: 0.6698\n",
      "Validation Accuracy: 0.6688\n",
      "Validation AUC: 0.7722\n"
     ]
    },
    {
     "name": "stderr",
     "output_type": "stream",
     "text": [
      "100%|██████████| 55/55 [00:11<00:00,  4.66it/s]\n",
      "100%|██████████| 16/16 [00:02<00:00,  5.50it/s]\n"
     ]
    },
    {
     "name": "stdout",
     "output_type": "stream",
     "text": [
      "Epoch 24/100:\n",
      "Training Accuracy: 0.6698\n",
      "Validation Accuracy: 0.6688\n",
      "Validation AUC: 0.7754\n"
     ]
    },
    {
     "name": "stderr",
     "output_type": "stream",
     "text": [
      "100%|██████████| 55/55 [00:11<00:00,  4.74it/s]\n",
      "100%|██████████| 16/16 [00:03<00:00,  5.25it/s]\n"
     ]
    },
    {
     "name": "stdout",
     "output_type": "stream",
     "text": [
      "Epoch 25/100:\n",
      "Training Accuracy: 0.6698\n",
      "Validation Accuracy: 0.6688\n",
      "Validation AUC: 0.7737\n"
     ]
    },
    {
     "name": "stderr",
     "output_type": "stream",
     "text": [
      "100%|██████████| 55/55 [00:11<00:00,  4.67it/s]\n",
      "100%|██████████| 16/16 [00:02<00:00,  5.48it/s]\n"
     ]
    },
    {
     "name": "stdout",
     "output_type": "stream",
     "text": [
      "Epoch 26/100:\n",
      "Training Accuracy: 0.6698\n",
      "Validation Accuracy: 0.6688\n",
      "Validation AUC: 0.7795\n"
     ]
    },
    {
     "name": "stderr",
     "output_type": "stream",
     "text": [
      "100%|██████████| 55/55 [00:11<00:00,  4.68it/s]\n",
      "100%|██████████| 16/16 [00:02<00:00,  5.85it/s]\n"
     ]
    },
    {
     "name": "stdout",
     "output_type": "stream",
     "text": [
      "Epoch 27/100:\n",
      "Training Accuracy: 0.6698\n",
      "Validation Accuracy: 0.6688\n",
      "Validation AUC: 0.7799\n"
     ]
    },
    {
     "name": "stderr",
     "output_type": "stream",
     "text": [
      "100%|██████████| 55/55 [00:11<00:00,  4.65it/s]\n",
      "100%|██████████| 16/16 [00:03<00:00,  5.12it/s]\n"
     ]
    },
    {
     "name": "stdout",
     "output_type": "stream",
     "text": [
      "Epoch 28/100:\n",
      "Training Accuracy: 0.6698\n",
      "Validation Accuracy: 0.6688\n",
      "Validation AUC: 0.7776\n"
     ]
    },
    {
     "name": "stderr",
     "output_type": "stream",
     "text": [
      "100%|██████████| 55/55 [00:11<00:00,  4.74it/s]\n",
      "100%|██████████| 16/16 [00:02<00:00,  5.38it/s]\n"
     ]
    },
    {
     "name": "stdout",
     "output_type": "stream",
     "text": [
      "Epoch 29/100:\n",
      "Training Accuracy: 0.6698\n",
      "Validation Accuracy: 0.6688\n",
      "Validation AUC: 0.7826\n"
     ]
    },
    {
     "name": "stderr",
     "output_type": "stream",
     "text": [
      "100%|██████████| 55/55 [00:11<00:00,  4.70it/s]\n",
      "100%|██████████| 16/16 [00:03<00:00,  5.07it/s]\n"
     ]
    },
    {
     "name": "stdout",
     "output_type": "stream",
     "text": [
      "Epoch 30/100:\n",
      "Training Accuracy: 0.6698\n",
      "Validation Accuracy: 0.6688\n",
      "Validation AUC: 0.7886\n"
     ]
    },
    {
     "name": "stderr",
     "output_type": "stream",
     "text": [
      "100%|██████████| 55/55 [00:11<00:00,  4.64it/s]\n",
      "100%|██████████| 16/16 [00:02<00:00,  5.45it/s]\n"
     ]
    },
    {
     "name": "stdout",
     "output_type": "stream",
     "text": [
      "Epoch 31/100:\n",
      "Training Accuracy: 0.6698\n",
      "Validation Accuracy: 0.6688\n",
      "Validation AUC: 0.7891\n"
     ]
    },
    {
     "name": "stderr",
     "output_type": "stream",
     "text": [
      "100%|██████████| 55/55 [00:11<00:00,  4.65it/s]\n",
      "100%|██████████| 16/16 [00:02<00:00,  5.39it/s]\n"
     ]
    },
    {
     "name": "stdout",
     "output_type": "stream",
     "text": [
      "Epoch 32/100:\n",
      "Training Accuracy: 0.6698\n",
      "Validation Accuracy: 0.6688\n",
      "Validation AUC: 0.7919\n"
     ]
    },
    {
     "name": "stderr",
     "output_type": "stream",
     "text": [
      "100%|██████████| 55/55 [00:11<00:00,  4.60it/s]\n",
      "100%|██████████| 16/16 [00:02<00:00,  5.49it/s]\n"
     ]
    },
    {
     "name": "stdout",
     "output_type": "stream",
     "text": [
      "Epoch 33/100:\n",
      "Training Accuracy: 0.6698\n",
      "Validation Accuracy: 0.6688\n",
      "Validation AUC: 0.7944\n"
     ]
    },
    {
     "name": "stderr",
     "output_type": "stream",
     "text": [
      "100%|██████████| 55/55 [00:12<00:00,  4.58it/s]\n",
      "100%|██████████| 16/16 [00:03<00:00,  5.18it/s]\n"
     ]
    },
    {
     "name": "stdout",
     "output_type": "stream",
     "text": [
      "Epoch 34/100:\n",
      "Training Accuracy: 0.6698\n",
      "Validation Accuracy: 0.6688\n",
      "Validation AUC: 0.7965\n"
     ]
    },
    {
     "name": "stderr",
     "output_type": "stream",
     "text": [
      "100%|██████████| 55/55 [00:11<00:00,  4.63it/s]\n",
      "100%|██████████| 16/16 [00:03<00:00,  5.15it/s]\n"
     ]
    },
    {
     "name": "stdout",
     "output_type": "stream",
     "text": [
      "Epoch 35/100:\n",
      "Training Accuracy: 0.6698\n",
      "Validation Accuracy: 0.6688\n",
      "Validation AUC: 0.7975\n"
     ]
    },
    {
     "name": "stderr",
     "output_type": "stream",
     "text": [
      "100%|██████████| 55/55 [00:12<00:00,  4.54it/s]\n",
      "100%|██████████| 16/16 [00:02<00:00,  5.43it/s]\n"
     ]
    },
    {
     "name": "stdout",
     "output_type": "stream",
     "text": [
      "Epoch 36/100:\n",
      "Training Accuracy: 0.6698\n",
      "Validation Accuracy: 0.6688\n",
      "Validation AUC: 0.7964\n"
     ]
    },
    {
     "name": "stderr",
     "output_type": "stream",
     "text": [
      "100%|██████████| 55/55 [00:11<00:00,  4.76it/s]\n",
      "100%|██████████| 16/16 [00:02<00:00,  5.68it/s]\n"
     ]
    },
    {
     "name": "stdout",
     "output_type": "stream",
     "text": [
      "Epoch 37/100:\n",
      "Training Accuracy: 0.6698\n",
      "Validation Accuracy: 0.6688\n",
      "Validation AUC: 0.7982\n"
     ]
    },
    {
     "name": "stderr",
     "output_type": "stream",
     "text": [
      "100%|██████████| 55/55 [00:11<00:00,  4.80it/s]\n",
      "100%|██████████| 16/16 [00:02<00:00,  5.35it/s]\n"
     ]
    },
    {
     "name": "stdout",
     "output_type": "stream",
     "text": [
      "Epoch 38/100:\n",
      "Training Accuracy: 0.6698\n",
      "Validation Accuracy: 0.6688\n",
      "Validation AUC: 0.8022\n"
     ]
    },
    {
     "name": "stderr",
     "output_type": "stream",
     "text": [
      "100%|██████████| 55/55 [00:11<00:00,  4.63it/s]\n",
      "100%|██████████| 16/16 [00:03<00:00,  5.21it/s]\n"
     ]
    },
    {
     "name": "stdout",
     "output_type": "stream",
     "text": [
      "Epoch 39/100:\n",
      "Training Accuracy: 0.6698\n",
      "Validation Accuracy: 0.6688\n",
      "Validation AUC: 0.8011\n"
     ]
    },
    {
     "name": "stderr",
     "output_type": "stream",
     "text": [
      "100%|██████████| 55/55 [00:11<00:00,  4.71it/s]\n",
      "100%|██████████| 16/16 [00:02<00:00,  5.66it/s]\n"
     ]
    },
    {
     "name": "stdout",
     "output_type": "stream",
     "text": [
      "Epoch 40/100:\n",
      "Training Accuracy: 0.6698\n",
      "Validation Accuracy: 0.6688\n",
      "Validation AUC: 0.8030\n"
     ]
    },
    {
     "name": "stderr",
     "output_type": "stream",
     "text": [
      "100%|██████████| 55/55 [00:11<00:00,  4.66it/s]\n",
      "100%|██████████| 16/16 [00:02<00:00,  5.93it/s]\n"
     ]
    },
    {
     "name": "stdout",
     "output_type": "stream",
     "text": [
      "Epoch 41/100:\n",
      "Training Accuracy: 0.6698\n",
      "Validation Accuracy: 0.6683\n",
      "Validation AUC: 0.8015\n"
     ]
    },
    {
     "name": "stderr",
     "output_type": "stream",
     "text": [
      "100%|██████████| 55/55 [00:11<00:00,  4.66it/s]\n",
      "100%|██████████| 16/16 [00:03<00:00,  4.99it/s]\n"
     ]
    },
    {
     "name": "stdout",
     "output_type": "stream",
     "text": [
      "Epoch 42/100:\n",
      "Training Accuracy: 0.6698\n",
      "Validation Accuracy: 0.6698\n",
      "Validation AUC: 0.7991\n"
     ]
    },
    {
     "name": "stderr",
     "output_type": "stream",
     "text": [
      "100%|██████████| 55/55 [00:12<00:00,  4.56it/s]\n",
      "100%|██████████| 16/16 [00:02<00:00,  5.35it/s]\n"
     ]
    },
    {
     "name": "stdout",
     "output_type": "stream",
     "text": [
      "Epoch 43/100:\n",
      "Training Accuracy: 0.6698\n",
      "Validation Accuracy: 0.6753\n",
      "Validation AUC: 0.8010\n"
     ]
    },
    {
     "name": "stderr",
     "output_type": "stream",
     "text": [
      "100%|██████████| 55/55 [00:11<00:00,  4.76it/s]\n",
      "100%|██████████| 16/16 [00:03<00:00,  5.29it/s]\n"
     ]
    },
    {
     "name": "stdout",
     "output_type": "stream",
     "text": [
      "Epoch 44/100:\n",
      "Training Accuracy: 0.6709\n",
      "Validation Accuracy: 0.6828\n",
      "Validation AUC: 0.8000\n"
     ]
    },
    {
     "name": "stderr",
     "output_type": "stream",
     "text": [
      "100%|██████████| 55/55 [00:11<00:00,  4.64it/s]\n",
      "100%|██████████| 16/16 [00:02<00:00,  5.49it/s]\n"
     ]
    },
    {
     "name": "stdout",
     "output_type": "stream",
     "text": [
      "Epoch 45/100:\n",
      "Training Accuracy: 0.6708\n",
      "Validation Accuracy: 0.6838\n",
      "Validation AUC: 0.7998\n"
     ]
    },
    {
     "name": "stderr",
     "output_type": "stream",
     "text": [
      "100%|██████████| 55/55 [00:11<00:00,  4.76it/s]\n",
      "100%|██████████| 16/16 [00:02<00:00,  5.41it/s]\n"
     ]
    },
    {
     "name": "stdout",
     "output_type": "stream",
     "text": [
      "Epoch 46/100:\n",
      "Training Accuracy: 0.6720\n",
      "Validation Accuracy: 0.6783\n",
      "Validation AUC: 0.8004\n"
     ]
    },
    {
     "name": "stderr",
     "output_type": "stream",
     "text": [
      "100%|██████████| 55/55 [00:11<00:00,  4.67it/s]\n",
      "100%|██████████| 16/16 [00:02<00:00,  5.48it/s]\n"
     ]
    },
    {
     "name": "stdout",
     "output_type": "stream",
     "text": [
      "Epoch 47/100:\n",
      "Training Accuracy: 0.6746\n",
      "Validation Accuracy: 0.6858\n",
      "Validation AUC: 0.8014\n"
     ]
    },
    {
     "name": "stderr",
     "output_type": "stream",
     "text": [
      "100%|██████████| 55/55 [00:11<00:00,  4.77it/s]\n",
      "100%|██████████| 16/16 [00:03<00:00,  5.29it/s]\n"
     ]
    },
    {
     "name": "stdout",
     "output_type": "stream",
     "text": [
      "Epoch 48/100:\n",
      "Training Accuracy: 0.6760\n",
      "Validation Accuracy: 0.6793\n",
      "Validation AUC: 0.7987\n"
     ]
    },
    {
     "name": "stderr",
     "output_type": "stream",
     "text": [
      "100%|██████████| 55/55 [00:11<00:00,  4.72it/s]\n",
      "100%|██████████| 16/16 [00:03<00:00,  5.29it/s]\n"
     ]
    },
    {
     "name": "stdout",
     "output_type": "stream",
     "text": [
      "Epoch 49/100:\n",
      "Training Accuracy: 0.6785\n",
      "Validation Accuracy: 0.6788\n",
      "Validation AUC: 0.7982\n"
     ]
    },
    {
     "name": "stderr",
     "output_type": "stream",
     "text": [
      "100%|██████████| 55/55 [00:12<00:00,  4.56it/s]\n",
      "100%|██████████| 16/16 [00:02<00:00,  5.34it/s]\n"
     ]
    },
    {
     "name": "stdout",
     "output_type": "stream",
     "text": [
      "Epoch 50/100:\n",
      "Training Accuracy: 0.6793\n",
      "Validation Accuracy: 0.6733\n",
      "Validation AUC: 0.7994\n"
     ]
    },
    {
     "name": "stderr",
     "output_type": "stream",
     "text": [
      "100%|██████████| 55/55 [00:12<00:00,  4.58it/s]\n",
      "100%|██████████| 16/16 [00:03<00:00,  5.30it/s]\n"
     ]
    },
    {
     "name": "stdout",
     "output_type": "stream",
     "text": [
      "Epoch 51/100:\n",
      "Training Accuracy: 0.6796\n",
      "Validation Accuracy: 0.6833\n",
      "Validation AUC: 0.8050\n"
     ]
    },
    {
     "name": "stderr",
     "output_type": "stream",
     "text": [
      "100%|██████████| 55/55 [00:12<00:00,  4.58it/s]\n",
      "100%|██████████| 16/16 [00:03<00:00,  5.07it/s]\n"
     ]
    },
    {
     "name": "stdout",
     "output_type": "stream",
     "text": [
      "Epoch 52/100:\n",
      "Training Accuracy: 0.6799\n",
      "Validation Accuracy: 0.6808\n",
      "Validation AUC: 0.8002\n"
     ]
    },
    {
     "name": "stderr",
     "output_type": "stream",
     "text": [
      "100%|██████████| 55/55 [00:11<00:00,  4.69it/s]\n",
      "100%|██████████| 16/16 [00:02<00:00,  5.47it/s]\n"
     ]
    },
    {
     "name": "stdout",
     "output_type": "stream",
     "text": [
      "Epoch 53/100:\n",
      "Training Accuracy: 0.6819\n",
      "Validation Accuracy: 0.6828\n",
      "Validation AUC: 0.8061\n"
     ]
    },
    {
     "name": "stderr",
     "output_type": "stream",
     "text": [
      "100%|██████████| 55/55 [00:11<00:00,  4.86it/s]\n",
      "100%|██████████| 16/16 [00:03<00:00,  5.27it/s]\n"
     ]
    },
    {
     "name": "stdout",
     "output_type": "stream",
     "text": [
      "Epoch 54/100:\n",
      "Training Accuracy: 0.6819\n",
      "Validation Accuracy: 0.6688\n",
      "Validation AUC: 0.8036\n"
     ]
    },
    {
     "name": "stderr",
     "output_type": "stream",
     "text": [
      "100%|██████████| 55/55 [00:12<00:00,  4.58it/s]\n",
      "100%|██████████| 16/16 [00:02<00:00,  5.99it/s]\n"
     ]
    },
    {
     "name": "stdout",
     "output_type": "stream",
     "text": [
      "Epoch 55/100:\n",
      "Training Accuracy: 0.6806\n",
      "Validation Accuracy: 0.6678\n",
      "Validation AUC: 0.8031\n"
     ]
    },
    {
     "name": "stderr",
     "output_type": "stream",
     "text": [
      "100%|██████████| 55/55 [00:11<00:00,  4.78it/s]\n",
      "100%|██████████| 16/16 [00:02<00:00,  5.66it/s]\n"
     ]
    },
    {
     "name": "stdout",
     "output_type": "stream",
     "text": [
      "Epoch 56/100:\n",
      "Training Accuracy: 0.6825\n",
      "Validation Accuracy: 0.6638\n",
      "Validation AUC: 0.8036\n"
     ]
    },
    {
     "name": "stderr",
     "output_type": "stream",
     "text": [
      "100%|██████████| 55/55 [00:12<00:00,  4.50it/s]\n",
      "100%|██████████| 16/16 [00:02<00:00,  5.55it/s]\n"
     ]
    },
    {
     "name": "stdout",
     "output_type": "stream",
     "text": [
      "Epoch 57/100:\n",
      "Training Accuracy: 0.6829\n",
      "Validation Accuracy: 0.6738\n",
      "Validation AUC: 0.8075\n"
     ]
    },
    {
     "name": "stderr",
     "output_type": "stream",
     "text": [
      "100%|██████████| 55/55 [00:11<00:00,  4.77it/s]\n",
      "100%|██████████| 16/16 [00:02<00:00,  5.52it/s]\n"
     ]
    },
    {
     "name": "stdout",
     "output_type": "stream",
     "text": [
      "Epoch 58/100:\n",
      "Training Accuracy: 0.6815\n",
      "Validation Accuracy: 0.6559\n",
      "Validation AUC: 0.8028\n"
     ]
    },
    {
     "name": "stderr",
     "output_type": "stream",
     "text": [
      "100%|██████████| 55/55 [00:12<00:00,  4.54it/s]\n",
      "100%|██████████| 16/16 [00:02<00:00,  5.39it/s]\n"
     ]
    },
    {
     "name": "stdout",
     "output_type": "stream",
     "text": [
      "Epoch 59/100:\n",
      "Training Accuracy: 0.6839\n",
      "Validation Accuracy: 0.6643\n",
      "Validation AUC: 0.8061\n"
     ]
    },
    {
     "name": "stderr",
     "output_type": "stream",
     "text": [
      "100%|██████████| 55/55 [00:11<00:00,  4.59it/s]\n",
      "100%|██████████| 16/16 [00:03<00:00,  5.11it/s]\n"
     ]
    },
    {
     "name": "stdout",
     "output_type": "stream",
     "text": [
      "Epoch 60/100:\n",
      "Training Accuracy: 0.6823\n",
      "Validation Accuracy: 0.6599\n",
      "Validation AUC: 0.8038\n"
     ]
    },
    {
     "name": "stderr",
     "output_type": "stream",
     "text": [
      "100%|██████████| 55/55 [00:12<00:00,  4.56it/s]\n",
      "100%|██████████| 16/16 [00:03<00:00,  5.13it/s]\n"
     ]
    },
    {
     "name": "stdout",
     "output_type": "stream",
     "text": [
      "Epoch 61/100:\n",
      "Training Accuracy: 0.6852\n",
      "Validation Accuracy: 0.6743\n",
      "Validation AUC: 0.8104\n"
     ]
    },
    {
     "name": "stderr",
     "output_type": "stream",
     "text": [
      "100%|██████████| 55/55 [00:11<00:00,  4.59it/s]\n",
      "100%|██████████| 16/16 [00:03<00:00,  5.03it/s]\n"
     ]
    },
    {
     "name": "stdout",
     "output_type": "stream",
     "text": [
      "Epoch 62/100:\n",
      "Training Accuracy: 0.6832\n",
      "Validation Accuracy: 0.6479\n",
      "Validation AUC: 0.7934\n"
     ]
    },
    {
     "name": "stderr",
     "output_type": "stream",
     "text": [
      "100%|██████████| 55/55 [00:11<00:00,  4.67it/s]\n",
      "100%|██████████| 16/16 [00:03<00:00,  5.32it/s]\n"
     ]
    },
    {
     "name": "stdout",
     "output_type": "stream",
     "text": [
      "Epoch 63/100:\n",
      "Training Accuracy: 0.6816\n",
      "Validation Accuracy: 0.6534\n",
      "Validation AUC: 0.7974\n"
     ]
    },
    {
     "name": "stderr",
     "output_type": "stream",
     "text": [
      "100%|██████████| 55/55 [00:11<00:00,  4.77it/s]\n",
      "100%|██████████| 16/16 [00:03<00:00,  4.94it/s]\n"
     ]
    },
    {
     "name": "stdout",
     "output_type": "stream",
     "text": [
      "Epoch 64/100:\n",
      "Training Accuracy: 0.6833\n",
      "Validation Accuracy: 0.6394\n",
      "Validation AUC: 0.8065\n"
     ]
    },
    {
     "name": "stderr",
     "output_type": "stream",
     "text": [
      "100%|██████████| 55/55 [00:11<00:00,  4.59it/s]\n",
      "100%|██████████| 16/16 [00:03<00:00,  5.31it/s]\n"
     ]
    },
    {
     "name": "stdout",
     "output_type": "stream",
     "text": [
      "Epoch 65/100:\n",
      "Training Accuracy: 0.6826\n",
      "Validation Accuracy: 0.6140\n",
      "Validation AUC: 0.8018\n"
     ]
    },
    {
     "name": "stderr",
     "output_type": "stream",
     "text": [
      "100%|██████████| 55/55 [00:11<00:00,  4.62it/s]\n",
      "100%|██████████| 16/16 [00:02<00:00,  5.36it/s]\n"
     ]
    },
    {
     "name": "stdout",
     "output_type": "stream",
     "text": [
      "Epoch 66/100:\n",
      "Training Accuracy: 0.6837\n",
      "Validation Accuracy: 0.6389\n",
      "Validation AUC: 0.8052\n"
     ]
    },
    {
     "name": "stderr",
     "output_type": "stream",
     "text": [
      "100%|██████████| 55/55 [00:11<00:00,  4.65it/s]\n",
      "100%|██████████| 16/16 [00:03<00:00,  5.18it/s]\n"
     ]
    },
    {
     "name": "stdout",
     "output_type": "stream",
     "text": [
      "Epoch 67/100:\n",
      "Training Accuracy: 0.6797\n",
      "Validation Accuracy: 0.5965\n",
      "Validation AUC: 0.8059\n"
     ]
    },
    {
     "name": "stderr",
     "output_type": "stream",
     "text": [
      "100%|██████████| 55/55 [00:11<00:00,  4.63it/s]\n",
      "100%|██████████| 16/16 [00:03<00:00,  5.16it/s]\n"
     ]
    },
    {
     "name": "stdout",
     "output_type": "stream",
     "text": [
      "Epoch 68/100:\n",
      "Training Accuracy: 0.6859\n",
      "Validation Accuracy: 0.6309\n",
      "Validation AUC: 0.8098\n"
     ]
    },
    {
     "name": "stderr",
     "output_type": "stream",
     "text": [
      "100%|██████████| 55/55 [00:12<00:00,  4.56it/s]\n",
      "100%|██████████| 16/16 [00:03<00:00,  5.28it/s]\n"
     ]
    },
    {
     "name": "stdout",
     "output_type": "stream",
     "text": [
      "Epoch 69/100:\n",
      "Training Accuracy: 0.6837\n",
      "Validation Accuracy: 0.5820\n",
      "Validation AUC: 0.8003\n"
     ]
    },
    {
     "name": "stderr",
     "output_type": "stream",
     "text": [
      "100%|██████████| 55/55 [00:11<00:00,  4.59it/s]\n",
      "100%|██████████| 16/16 [00:02<00:00,  5.54it/s]\n"
     ]
    },
    {
     "name": "stdout",
     "output_type": "stream",
     "text": [
      "Epoch 70/100:\n",
      "Training Accuracy: 0.6845\n",
      "Validation Accuracy: 0.6404\n",
      "Validation AUC: 0.8035\n"
     ]
    },
    {
     "name": "stderr",
     "output_type": "stream",
     "text": [
      "100%|██████████| 55/55 [00:11<00:00,  4.66it/s]\n",
      "100%|██████████| 16/16 [00:02<00:00,  5.51it/s]\n"
     ]
    },
    {
     "name": "stdout",
     "output_type": "stream",
     "text": [
      "Epoch 71/100:\n",
      "Training Accuracy: 0.6849\n",
      "Validation Accuracy: 0.5830\n",
      "Validation AUC: 0.8044\n"
     ]
    },
    {
     "name": "stderr",
     "output_type": "stream",
     "text": [
      "100%|██████████| 55/55 [00:11<00:00,  4.59it/s]\n",
      "100%|██████████| 16/16 [00:03<00:00,  5.28it/s]\n"
     ]
    },
    {
     "name": "stdout",
     "output_type": "stream",
     "text": [
      "Epoch 72/100:\n",
      "Training Accuracy: 0.6829\n",
      "Validation Accuracy: 0.5511\n",
      "Validation AUC: 0.8027\n"
     ]
    },
    {
     "name": "stderr",
     "output_type": "stream",
     "text": [
      "100%|██████████| 55/55 [00:11<00:00,  4.82it/s]\n",
      "100%|██████████| 16/16 [00:03<00:00,  5.13it/s]\n"
     ]
    },
    {
     "name": "stdout",
     "output_type": "stream",
     "text": [
      "Epoch 73/100:\n",
      "Training Accuracy: 0.6840\n",
      "Validation Accuracy: 0.6005\n",
      "Validation AUC: 0.8071\n"
     ]
    },
    {
     "name": "stderr",
     "output_type": "stream",
     "text": [
      "100%|██████████| 55/55 [00:11<00:00,  4.59it/s]\n",
      "100%|██████████| 16/16 [00:02<00:00,  5.46it/s]\n"
     ]
    },
    {
     "name": "stdout",
     "output_type": "stream",
     "text": [
      "Epoch 74/100:\n",
      "Training Accuracy: 0.6837\n",
      "Validation Accuracy: 0.5895\n",
      "Validation AUC: 0.8111\n"
     ]
    },
    {
     "name": "stderr",
     "output_type": "stream",
     "text": [
      "100%|██████████| 55/55 [00:11<00:00,  4.74it/s]\n",
      "100%|██████████| 16/16 [00:02<00:00,  5.39it/s]\n"
     ]
    },
    {
     "name": "stdout",
     "output_type": "stream",
     "text": [
      "Epoch 75/100:\n",
      "Training Accuracy: 0.6859\n",
      "Validation Accuracy: 0.5865\n",
      "Validation AUC: 0.8118\n"
     ]
    },
    {
     "name": "stderr",
     "output_type": "stream",
     "text": [
      "100%|██████████| 55/55 [00:11<00:00,  4.60it/s]\n",
      "100%|██████████| 16/16 [00:03<00:00,  5.10it/s]\n"
     ]
    },
    {
     "name": "stdout",
     "output_type": "stream",
     "text": [
      "Epoch 76/100:\n",
      "Training Accuracy: 0.6870\n",
      "Validation Accuracy: 0.5895\n",
      "Validation AUC: 0.8106\n"
     ]
    },
    {
     "name": "stderr",
     "output_type": "stream",
     "text": [
      "100%|██████████| 55/55 [00:11<00:00,  4.69it/s]\n",
      "100%|██████████| 16/16 [00:03<00:00,  5.26it/s]\n"
     ]
    },
    {
     "name": "stdout",
     "output_type": "stream",
     "text": [
      "Epoch 77/100:\n",
      "Training Accuracy: 0.6870\n",
      "Validation Accuracy: 0.5127\n",
      "Validation AUC: 0.8047\n"
     ]
    },
    {
     "name": "stderr",
     "output_type": "stream",
     "text": [
      "100%|██████████| 55/55 [00:11<00:00,  4.60it/s]\n",
      "100%|██████████| 16/16 [00:02<00:00,  5.40it/s]\n"
     ]
    },
    {
     "name": "stdout",
     "output_type": "stream",
     "text": [
      "Epoch 78/100:\n",
      "Training Accuracy: 0.6852\n",
      "Validation Accuracy: 0.5471\n",
      "Validation AUC: 0.8112\n"
     ]
    },
    {
     "name": "stderr",
     "output_type": "stream",
     "text": [
      "100%|██████████| 55/55 [00:12<00:00,  4.54it/s]\n",
      "100%|██████████| 16/16 [00:03<00:00,  5.25it/s]\n"
     ]
    },
    {
     "name": "stdout",
     "output_type": "stream",
     "text": [
      "Epoch 79/100:\n",
      "Training Accuracy: 0.6889\n",
      "Validation Accuracy: 0.6394\n",
      "Validation AUC: 0.8184\n"
     ]
    },
    {
     "name": "stderr",
     "output_type": "stream",
     "text": [
      "100%|██████████| 55/55 [00:11<00:00,  4.68it/s]\n",
      "100%|██████████| 16/16 [00:03<00:00,  5.20it/s]\n"
     ]
    },
    {
     "name": "stdout",
     "output_type": "stream",
     "text": [
      "Epoch 80/100:\n",
      "Training Accuracy: 0.6856\n",
      "Validation Accuracy: 0.6140\n",
      "Validation AUC: 0.8171\n"
     ]
    },
    {
     "name": "stderr",
     "output_type": "stream",
     "text": [
      "100%|██████████| 55/55 [00:11<00:00,  4.63it/s]\n",
      "100%|██████████| 16/16 [00:02<00:00,  5.40it/s]\n"
     ]
    },
    {
     "name": "stdout",
     "output_type": "stream",
     "text": [
      "Epoch 81/100:\n",
      "Training Accuracy: 0.6882\n",
      "Validation Accuracy: 0.6135\n",
      "Validation AUC: 0.8146\n"
     ]
    },
    {
     "name": "stderr",
     "output_type": "stream",
     "text": [
      "100%|██████████| 55/55 [00:11<00:00,  4.66it/s]\n",
      "100%|██████████| 16/16 [00:02<00:00,  5.35it/s]\n"
     ]
    },
    {
     "name": "stdout",
     "output_type": "stream",
     "text": [
      "Epoch 82/100:\n",
      "Training Accuracy: 0.6886\n",
      "Validation Accuracy: 0.5781\n",
      "Validation AUC: 0.8146\n"
     ]
    },
    {
     "name": "stderr",
     "output_type": "stream",
     "text": [
      "100%|██████████| 55/55 [00:12<00:00,  4.58it/s]\n",
      "100%|██████████| 16/16 [00:03<00:00,  5.29it/s]\n"
     ]
    },
    {
     "name": "stdout",
     "output_type": "stream",
     "text": [
      "Epoch 83/100:\n",
      "Training Accuracy: 0.6900\n",
      "Validation Accuracy: 0.5162\n",
      "Validation AUC: 0.8096\n"
     ]
    },
    {
     "name": "stderr",
     "output_type": "stream",
     "text": [
      "100%|██████████| 55/55 [00:11<00:00,  4.75it/s]\n",
      "100%|██████████| 16/16 [00:03<00:00,  5.27it/s]\n"
     ]
    },
    {
     "name": "stdout",
     "output_type": "stream",
     "text": [
      "Epoch 84/100:\n",
      "Training Accuracy: 0.6892\n",
      "Validation Accuracy: 0.5551\n",
      "Validation AUC: 0.8165\n"
     ]
    },
    {
     "name": "stderr",
     "output_type": "stream",
     "text": [
      "100%|██████████| 55/55 [00:11<00:00,  4.63it/s]\n",
      "100%|██████████| 16/16 [00:02<00:00,  5.35it/s]\n"
     ]
    },
    {
     "name": "stdout",
     "output_type": "stream",
     "text": [
      "Epoch 85/100:\n",
      "Training Accuracy: 0.6903\n",
      "Validation Accuracy: 0.5087\n",
      "Validation AUC: 0.8072\n"
     ]
    },
    {
     "name": "stderr",
     "output_type": "stream",
     "text": [
      "100%|██████████| 55/55 [00:11<00:00,  4.64it/s]\n",
      "100%|██████████| 16/16 [00:03<00:00,  5.22it/s]\n"
     ]
    },
    {
     "name": "stdout",
     "output_type": "stream",
     "text": [
      "Epoch 86/100:\n",
      "Training Accuracy: 0.6877\n",
      "Validation Accuracy: 0.5571\n",
      "Validation AUC: 0.8191\n"
     ]
    },
    {
     "name": "stderr",
     "output_type": "stream",
     "text": [
      "100%|██████████| 55/55 [00:11<00:00,  4.66it/s]\n",
      "100%|██████████| 16/16 [00:03<00:00,  5.12it/s]\n"
     ]
    },
    {
     "name": "stdout",
     "output_type": "stream",
     "text": [
      "Epoch 87/100:\n",
      "Training Accuracy: 0.6895\n",
      "Validation Accuracy: 0.5152\n",
      "Validation AUC: 0.8135\n"
     ]
    },
    {
     "name": "stderr",
     "output_type": "stream",
     "text": [
      "100%|██████████| 55/55 [00:11<00:00,  4.64it/s]\n",
      "100%|██████████| 16/16 [00:03<00:00,  5.22it/s]\n"
     ]
    },
    {
     "name": "stdout",
     "output_type": "stream",
     "text": [
      "Epoch 88/100:\n",
      "Training Accuracy: 0.6895\n",
      "Validation Accuracy: 0.5486\n",
      "Validation AUC: 0.8225\n"
     ]
    },
    {
     "name": "stderr",
     "output_type": "stream",
     "text": [
      "100%|██████████| 55/55 [00:12<00:00,  4.50it/s]\n",
      "100%|██████████| 16/16 [00:03<00:00,  5.23it/s]\n"
     ]
    },
    {
     "name": "stdout",
     "output_type": "stream",
     "text": [
      "Epoch 89/100:\n",
      "Training Accuracy: 0.6927\n",
      "Validation Accuracy: 0.5771\n",
      "Validation AUC: 0.8152\n"
     ]
    },
    {
     "name": "stderr",
     "output_type": "stream",
     "text": [
      "100%|██████████| 55/55 [00:11<00:00,  4.73it/s]\n",
      "100%|██████████| 16/16 [00:02<00:00,  5.61it/s]\n"
     ]
    },
    {
     "name": "stdout",
     "output_type": "stream",
     "text": [
      "Epoch 90/100:\n",
      "Training Accuracy: 0.6897\n",
      "Validation Accuracy: 0.5167\n",
      "Validation AUC: 0.8185\n"
     ]
    },
    {
     "name": "stderr",
     "output_type": "stream",
     "text": [
      "100%|██████████| 55/55 [00:11<00:00,  4.59it/s]\n",
      "100%|██████████| 16/16 [00:02<00:00,  5.78it/s]\n"
     ]
    },
    {
     "name": "stdout",
     "output_type": "stream",
     "text": [
      "Epoch 91/100:\n",
      "Training Accuracy: 0.6893\n",
      "Validation Accuracy: 0.5382\n",
      "Validation AUC: 0.8249\n"
     ]
    },
    {
     "name": "stderr",
     "output_type": "stream",
     "text": [
      "100%|██████████| 55/55 [00:11<00:00,  4.64it/s]\n",
      "100%|██████████| 16/16 [00:02<00:00,  5.39it/s]\n"
     ]
    },
    {
     "name": "stdout",
     "output_type": "stream",
     "text": [
      "Epoch 92/100:\n",
      "Training Accuracy: 0.6896\n",
      "Validation Accuracy: 0.5895\n",
      "Validation AUC: 0.8319\n"
     ]
    },
    {
     "name": "stderr",
     "output_type": "stream",
     "text": [
      "100%|██████████| 55/55 [00:12<00:00,  4.51it/s]\n",
      "100%|██████████| 16/16 [00:02<00:00,  5.82it/s]\n"
     ]
    },
    {
     "name": "stdout",
     "output_type": "stream",
     "text": [
      "Epoch 93/100:\n",
      "Training Accuracy: 0.6865\n",
      "Validation Accuracy: 0.6249\n",
      "Validation AUC: 0.8329\n"
     ]
    },
    {
     "name": "stderr",
     "output_type": "stream",
     "text": [
      "100%|██████████| 55/55 [00:11<00:00,  4.59it/s]\n",
      "100%|██████████| 16/16 [00:02<00:00,  5.53it/s]\n"
     ]
    },
    {
     "name": "stdout",
     "output_type": "stream",
     "text": [
      "Epoch 94/100:\n",
      "Training Accuracy: 0.6875\n",
      "Validation Accuracy: 0.5277\n",
      "Validation AUC: 0.8265\n"
     ]
    },
    {
     "name": "stderr",
     "output_type": "stream",
     "text": [
      "100%|██████████| 55/55 [00:11<00:00,  4.78it/s]\n",
      "100%|██████████| 16/16 [00:02<00:00,  5.34it/s]\n"
     ]
    },
    {
     "name": "stdout",
     "output_type": "stream",
     "text": [
      "Epoch 95/100:\n",
      "Training Accuracy: 0.6919\n",
      "Validation Accuracy: 0.5616\n",
      "Validation AUC: 0.8287\n"
     ]
    },
    {
     "name": "stderr",
     "output_type": "stream",
     "text": [
      "100%|██████████| 55/55 [00:11<00:00,  4.66it/s]\n",
      "100%|██████████| 16/16 [00:02<00:00,  5.43it/s]\n"
     ]
    },
    {
     "name": "stdout",
     "output_type": "stream",
     "text": [
      "Epoch 96/100:\n",
      "Training Accuracy: 0.6927\n",
      "Validation Accuracy: 0.5791\n",
      "Validation AUC: 0.8357\n"
     ]
    },
    {
     "name": "stderr",
     "output_type": "stream",
     "text": [
      "100%|██████████| 55/55 [00:12<00:00,  4.57it/s]\n",
      "100%|██████████| 16/16 [00:03<00:00,  5.29it/s]\n"
     ]
    },
    {
     "name": "stdout",
     "output_type": "stream",
     "text": [
      "Epoch 97/100:\n",
      "Training Accuracy: 0.6925\n",
      "Validation Accuracy: 0.5167\n",
      "Validation AUC: 0.8281\n"
     ]
    },
    {
     "name": "stderr",
     "output_type": "stream",
     "text": [
      "100%|██████████| 55/55 [00:11<00:00,  4.60it/s]\n",
      "100%|██████████| 16/16 [00:03<00:00,  5.31it/s]\n"
     ]
    },
    {
     "name": "stdout",
     "output_type": "stream",
     "text": [
      "Epoch 98/100:\n",
      "Training Accuracy: 0.6867\n",
      "Validation Accuracy: 0.5930\n",
      "Validation AUC: 0.8398\n"
     ]
    },
    {
     "name": "stderr",
     "output_type": "stream",
     "text": [
      "100%|██████████| 55/55 [00:11<00:00,  4.66it/s]\n",
      "100%|██████████| 16/16 [00:03<00:00,  5.18it/s]\n"
     ]
    },
    {
     "name": "stdout",
     "output_type": "stream",
     "text": [
      "Epoch 99/100:\n",
      "Training Accuracy: 0.6899\n",
      "Validation Accuracy: 0.5756\n",
      "Validation AUC: 0.8380\n"
     ]
    },
    {
     "name": "stderr",
     "output_type": "stream",
     "text": [
      "100%|██████████| 55/55 [00:11<00:00,  4.65it/s]\n",
      "100%|██████████| 16/16 [00:03<00:00,  5.20it/s]"
     ]
    },
    {
     "name": "stdout",
     "output_type": "stream",
     "text": [
      "Epoch 100/100:\n",
      "Training Accuracy: 0.6919\n",
      "Validation Accuracy: 0.5825\n",
      "Validation AUC: 0.8390\n"
     ]
    },
    {
     "name": "stderr",
     "output_type": "stream",
     "text": [
      "\n"
     ]
    }
   ],
   "source": [
    "import torch\n",
    "import torch.nn as nn\n",
    "import torch.optim as optim\n",
    "from torch.utils import data\n",
    "from torchvision import transforms\n",
    "from tqdm import tqdm\n",
    "from sklearn.metrics import accuracy_score, roc_auc_score\n",
    "import torch.nn.functional as F\n",
    "\n",
    "# 模型、损失和优化器\n",
    "model = AlexNet(num_classes=7)\n",
    "model = nn.DataParallel(model)  # 使用DataParallel进行多GPU训练\n",
    "model = model.to('cuda')  # 将模型移动到GPU上\n",
    "criterion = nn.CrossEntropyLoss()\n",
    "#optimizer = optim.Adam(model.parameters(), lr=0.001)\n",
    "optimizer = optim.SGD(model.parameters(), lr=0.001, momentum=0.9)\n",
    "\n",
    "# 训练和验证\n",
    "NUM_EPOCHS = 100\n",
    "for epoch in range(NUM_EPOCHS):\n",
    "    train_correct = 0\n",
    "    train_total = 0\n",
    "    test_correct = 0\n",
    "    test_total = 0\n",
    "    all_true_labels = []\n",
    "    all_predicted_probs = []\n",
    "\n",
    "    # 训练\n",
    "    model.train()\n",
    "    for inputs, targets in tqdm(train_loader):\n",
    "        inputs, targets = inputs.to('cuda'), targets.to('cuda')\n",
    "        optimizer.zero_grad()\n",
    "        outputs = model(inputs)\n",
    "        targets = targets.squeeze().long()\n",
    "        loss = criterion(outputs, targets)\n",
    "        loss.backward()\n",
    "        optimizer.step()\n",
    "        _, predicted = torch.max(outputs.data, 1)\n",
    "        train_total += targets.size(0)\n",
    "        train_correct += (predicted == targets).sum().item()\n",
    "    \n",
    "    # 验证\n",
    "    model.eval()\n",
    "    all_preds = []\n",
    "    all_targets = []\n",
    "    \n",
    "    with torch.no_grad():\n",
    "        for inputs, targets in tqdm(test_loader):\n",
    "            inputs, targets = inputs.to('cuda'), targets.to('cuda')\n",
    "            outputs = model(inputs)\n",
    "            _, preds = torch.max(outputs, 1)\n",
    "            all_preds.extend(preds.cpu().numpy())\n",
    "            all_targets.extend(targets.cpu().numpy())\n",
    "            # 添加真实标签和预测概率\n",
    "            all_true_labels.extend(targets.cpu().numpy())\n",
    "            all_predicted_probs.extend(F.softmax(outputs, dim=1).cpu().numpy())\n",
    "\n",
    "    # 计算准确度和AUC\n",
    "    correct = 0\n",
    "    total = 0\n",
    "    for i, j in zip(all_preds, all_targets):\n",
    "        if i == j:\n",
    "            correct += 1\n",
    "        total += 1\n",
    "    accuracy = correct / total\n",
    "    \n",
    "    # 计算 AUC\n",
    "    auc = roc_auc_score(all_true_labels, all_predicted_probs, multi_class='ovr')\n",
    "\n",
    "    print(f'Epoch {epoch + 1}/{NUM_EPOCHS}:')\n",
    "    print(f'Training Accuracy: {train_correct / train_total:.4f}')\n",
    "    print(f'Validation Accuracy: {accuracy:.4f}')\n",
    "    print(f'Validation AUC: {auc:.4f}')\n"
   ]
  },
  {
   "cell_type": "code",
   "execution_count": null,
   "metadata": {},
   "outputs": [],
   "source": []
  },
  {
   "cell_type": "code",
   "execution_count": null,
   "metadata": {},
   "outputs": [],
   "source": []
  },
  {
   "cell_type": "code",
   "execution_count": null,
   "metadata": {},
   "outputs": [],
   "source": []
  }
 ],
 "metadata": {
  "kernelspec": {
   "display_name": "lora",
   "language": "python",
   "name": "lora"
  },
  "language_info": {
   "codemirror_mode": {
    "name": "ipython",
    "version": 3
   },
   "file_extension": ".py",
   "mimetype": "text/x-python",
   "name": "python",
   "nbconvert_exporter": "python",
   "pygments_lexer": "ipython3",
   "version": "3.10.9"
  }
 },
 "nbformat": 4,
 "nbformat_minor": 4
}
